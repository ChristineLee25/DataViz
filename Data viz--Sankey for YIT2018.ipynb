{
 "cells": [
  {
   "cell_type": "code",
   "execution_count": 17,
   "metadata": {},
   "outputs": [
    {
     "name": "stdout",
     "output_type": "stream",
     "text": [
      "Requirement already satisfied: plotly in c:\\users\\christine\\anaconda3\\lib\\site-packages (4.5.4)\n",
      "Requirement already satisfied: six in c:\\users\\christine\\anaconda3\\lib\\site-packages (from plotly) (1.14.0)\n",
      "Requirement already satisfied: retrying>=1.3.3 in c:\\users\\christine\\anaconda3\\lib\\site-packages (from plotly) (1.3.3)\n",
      "Requirement already satisfied: ipysankeywidget in c:\\users\\christine\\anaconda3\\lib\\site-packages (0.3.0)\n",
      "Requirement already satisfied: ipywidgets>=7.0.0 in c:\\users\\christine\\anaconda3\\lib\\site-packages (from ipysankeywidget) (7.5.1)\n",
      "Requirement already satisfied: ipython>=4.0.0; python_version >= \"3.3\" in c:\\users\\christine\\anaconda3\\lib\\site-packages (from ipywidgets>=7.0.0->ipysankeywidget) (7.12.0)\n",
      "Requirement already satisfied: nbformat>=4.2.0 in c:\\users\\christine\\anaconda3\\lib\\site-packages (from ipywidgets>=7.0.0->ipysankeywidget) (5.0.4)\n",
      "Requirement already satisfied: ipykernel>=4.5.1 in c:\\users\\christine\\anaconda3\\lib\\site-packages (from ipywidgets>=7.0.0->ipysankeywidget) (5.1.4)\n",
      "Requirement already satisfied: traitlets>=4.3.1 in c:\\users\\christine\\anaconda3\\lib\\site-packages (from ipywidgets>=7.0.0->ipysankeywidget) (4.3.3)\n",
      "Requirement already satisfied: widgetsnbextension~=3.5.0 in c:\\users\\christine\\anaconda3\\lib\\site-packages (from ipywidgets>=7.0.0->ipysankeywidget) (3.5.1)\n",
      "Requirement already satisfied: setuptools>=18.5 in c:\\users\\christine\\anaconda3\\lib\\site-packages (from ipython>=4.0.0; python_version >= \"3.3\"->ipywidgets>=7.0.0->ipysankeywidget) (45.2.0.post20200210)\n",
      "Requirement already satisfied: jedi>=0.10 in c:\\users\\christine\\anaconda3\\lib\\site-packages (from ipython>=4.0.0; python_version >= \"3.3\"->ipywidgets>=7.0.0->ipysankeywidget) (0.14.1)\n",
      "Requirement already satisfied: colorama; sys_platform == \"win32\" in c:\\users\\christine\\anaconda3\\lib\\site-packages (from ipython>=4.0.0; python_version >= \"3.3\"->ipywidgets>=7.0.0->ipysankeywidget) (0.4.3)\n",
      "Requirement already satisfied: pickleshare in c:\\users\\christine\\anaconda3\\lib\\site-packages (from ipython>=4.0.0; python_version >= \"3.3\"->ipywidgets>=7.0.0->ipysankeywidget) (0.7.5)\n",
      "Requirement already satisfied: backcall in c:\\users\\christine\\anaconda3\\lib\\site-packages (from ipython>=4.0.0; python_version >= \"3.3\"->ipywidgets>=7.0.0->ipysankeywidget) (0.1.0)\n",
      "Requirement already satisfied: pygments in c:\\users\\christine\\anaconda3\\lib\\site-packages (from ipython>=4.0.0; python_version >= \"3.3\"->ipywidgets>=7.0.0->ipysankeywidget) (2.5.2)\n",
      "Requirement already satisfied: decorator in c:\\users\\christine\\anaconda3\\lib\\site-packages (from ipython>=4.0.0; python_version >= \"3.3\"->ipywidgets>=7.0.0->ipysankeywidget) (4.4.1)\n",
      "Requirement already satisfied: prompt-toolkit!=3.0.0,!=3.0.1,<3.1.0,>=2.0.0 in c:\\users\\christine\\anaconda3\\lib\\site-packages (from ipython>=4.0.0; python_version >= \"3.3\"->ipywidgets>=7.0.0->ipysankeywidget) (3.0.3)\n",
      "Requirement already satisfied: jsonschema!=2.5.0,>=2.4 in c:\\users\\christine\\anaconda3\\lib\\site-packages (from nbformat>=4.2.0->ipywidgets>=7.0.0->ipysankeywidget) (3.2.0)\n",
      "Requirement already satisfied: ipython-genutils in c:\\users\\christine\\anaconda3\\lib\\site-packages (from nbformat>=4.2.0->ipywidgets>=7.0.0->ipysankeywidget) (0.2.0)\n",
      "Requirement already satisfied: jupyter-core in c:\\users\\christine\\anaconda3\\lib\\site-packages (from nbformat>=4.2.0->ipywidgets>=7.0.0->ipysankeywidget) (4.6.1)\n",
      "Requirement already satisfied: tornado>=4.2 in c:\\users\\christine\\anaconda3\\lib\\site-packages (from ipykernel>=4.5.1->ipywidgets>=7.0.0->ipysankeywidget) (6.0.3)\n",
      "Requirement already satisfied: jupyter-client in c:\\users\\christine\\anaconda3\\lib\\site-packages (from ipykernel>=4.5.1->ipywidgets>=7.0.0->ipysankeywidget) (5.3.4)\n",
      "Requirement already satisfied: six in c:\\users\\christine\\anaconda3\\lib\\site-packages (from traitlets>=4.3.1->ipywidgets>=7.0.0->ipysankeywidget) (1.14.0)\n",
      "Requirement already satisfied: notebook>=4.4.1 in c:\\users\\christine\\anaconda3\\lib\\site-packages (from widgetsnbextension~=3.5.0->ipywidgets>=7.0.0->ipysankeywidget) (6.0.3)\n",
      "Requirement already satisfied: parso>=0.5.0 in c:\\users\\christine\\anaconda3\\lib\\site-packages (from jedi>=0.10->ipython>=4.0.0; python_version >= \"3.3\"->ipywidgets>=7.0.0->ipysankeywidget) (0.5.2)\n",
      "Requirement already satisfied: wcwidth in c:\\users\\christine\\anaconda3\\lib\\site-packages (from prompt-toolkit!=3.0.0,!=3.0.1,<3.1.0,>=2.0.0->ipython>=4.0.0; python_version >= \"3.3\"->ipywidgets>=7.0.0->ipysankeywidget) (0.1.8)\n",
      "Requirement already satisfied: pyrsistent>=0.14.0 in c:\\users\\christine\\anaconda3\\lib\\site-packages (from jsonschema!=2.5.0,>=2.4->nbformat>=4.2.0->ipywidgets>=7.0.0->ipysankeywidget) (0.15.7)\n",
      "Requirement already satisfied: importlib-metadata; python_version < \"3.8\" in c:\\users\\christine\\anaconda3\\lib\\site-packages (from jsonschema!=2.5.0,>=2.4->nbformat>=4.2.0->ipywidgets>=7.0.0->ipysankeywidget) (1.5.0)\n",
      "Requirement already satisfied: attrs>=17.4.0 in c:\\users\\christine\\anaconda3\\lib\\site-packages (from jsonschema!=2.5.0,>=2.4->nbformat>=4.2.0->ipywidgets>=7.0.0->ipysankeywidget) (19.3.0)\n",
      "Requirement already satisfied: pywin32>=1.0; sys_platform == \"win32\" in c:\\users\\christine\\anaconda3\\lib\\site-packages (from jupyter-core->nbformat>=4.2.0->ipywidgets>=7.0.0->ipysankeywidget) (227)\n",
      "Requirement already satisfied: pyzmq>=13 in c:\\users\\christine\\anaconda3\\lib\\site-packages (from jupyter-client->ipykernel>=4.5.1->ipywidgets>=7.0.0->ipysankeywidget) (18.1.1)\n",
      "Requirement already satisfied: python-dateutil>=2.1 in c:\\users\\christine\\anaconda3\\lib\\site-packages (from jupyter-client->ipykernel>=4.5.1->ipywidgets>=7.0.0->ipysankeywidget) (2.8.1)\n",
      "Requirement already satisfied: Send2Trash in c:\\users\\christine\\anaconda3\\lib\\site-packages (from notebook>=4.4.1->widgetsnbextension~=3.5.0->ipywidgets>=7.0.0->ipysankeywidget) (1.5.0)\n",
      "Requirement already satisfied: jinja2 in c:\\users\\christine\\anaconda3\\lib\\site-packages (from notebook>=4.4.1->widgetsnbextension~=3.5.0->ipywidgets>=7.0.0->ipysankeywidget) (2.11.1)\n",
      "Requirement already satisfied: terminado>=0.8.1 in c:\\users\\christine\\anaconda3\\lib\\site-packages (from notebook>=4.4.1->widgetsnbextension~=3.5.0->ipywidgets>=7.0.0->ipysankeywidget) (0.8.3)\n",
      "Requirement already satisfied: prometheus-client in c:\\users\\christine\\anaconda3\\lib\\site-packages (from notebook>=4.4.1->widgetsnbextension~=3.5.0->ipywidgets>=7.0.0->ipysankeywidget) (0.7.1)\n",
      "Requirement already satisfied: nbconvert in c:\\users\\christine\\anaconda3\\lib\\site-packages (from notebook>=4.4.1->widgetsnbextension~=3.5.0->ipywidgets>=7.0.0->ipysankeywidget) (5.6.1)\n",
      "Requirement already satisfied: zipp>=0.5 in c:\\users\\christine\\anaconda3\\lib\\site-packages (from importlib-metadata; python_version < \"3.8\"->jsonschema!=2.5.0,>=2.4->nbformat>=4.2.0->ipywidgets>=7.0.0->ipysankeywidget) (2.2.0)\n",
      "Requirement already satisfied: MarkupSafe>=0.23 in c:\\users\\christine\\anaconda3\\lib\\site-packages (from jinja2->notebook>=4.4.1->widgetsnbextension~=3.5.0->ipywidgets>=7.0.0->ipysankeywidget) (1.1.1)\n",
      "Requirement already satisfied: bleach in c:\\users\\christine\\anaconda3\\lib\\site-packages (from nbconvert->notebook>=4.4.1->widgetsnbextension~=3.5.0->ipywidgets>=7.0.0->ipysankeywidget) (3.1.0)\n",
      "Requirement already satisfied: defusedxml in c:\\users\\christine\\anaconda3\\lib\\site-packages (from nbconvert->notebook>=4.4.1->widgetsnbextension~=3.5.0->ipywidgets>=7.0.0->ipysankeywidget) (0.6.0)\n",
      "Requirement already satisfied: pandocfilters>=1.4.1 in c:\\users\\christine\\anaconda3\\lib\\site-packages (from nbconvert->notebook>=4.4.1->widgetsnbextension~=3.5.0->ipywidgets>=7.0.0->ipysankeywidget) (1.4.2)\n",
      "Requirement already satisfied: entrypoints>=0.2.2 in c:\\users\\christine\\anaconda3\\lib\\site-packages (from nbconvert->notebook>=4.4.1->widgetsnbextension~=3.5.0->ipywidgets>=7.0.0->ipysankeywidget) (0.3)\n",
      "Requirement already satisfied: mistune<2,>=0.8.1 in c:\\users\\christine\\anaconda3\\lib\\site-packages (from nbconvert->notebook>=4.4.1->widgetsnbextension~=3.5.0->ipywidgets>=7.0.0->ipysankeywidget) (0.8.4)\n",
      "Requirement already satisfied: testpath in c:\\users\\christine\\anaconda3\\lib\\site-packages (from nbconvert->notebook>=4.4.1->widgetsnbextension~=3.5.0->ipywidgets>=7.0.0->ipysankeywidget) (0.4.4)\n",
      "Requirement already satisfied: webencodings in c:\\users\\christine\\anaconda3\\lib\\site-packages (from bleach->nbconvert->notebook>=4.4.1->widgetsnbextension~=3.5.0->ipywidgets>=7.0.0->ipysankeywidget) (0.5.1)\n"
     ]
    }
   ],
   "source": [
    "#Packages needed if not already installed\n",
    "!pip install plotly\n",
    "!pip install ipysankeywidget"
   ]
  },
  {
   "cell_type": "code",
   "execution_count": 1,
   "metadata": {},
   "outputs": [
    {
     "name": "stderr",
     "output_type": "stream",
     "text": [
      "Enabling notebook extension jupyter-sankey-widget/extension...\n",
      "      - Validating: ok\n",
      "The system cannot find the file specified.\n"
     ]
    }
   ],
   "source": [
    "!jupyter nbextension enable --py --sys-prefix ipysankeywidget\n",
    "!jupyter nbextension enable --py --sys-prefix widgetsnbextension   # <-- you might have already done this,\n",
    "                                                                    #     but it's safe to do again"
   ]
  },
  {
   "cell_type": "code",
   "execution_count": 2,
   "metadata": {},
   "outputs": [],
   "source": [
    "from ipysankeywidget import SankeyWidget\n",
    "from ipywidgets import Layout\n",
    "from ipywidgets import Button, VBox"
   ]
  },
  {
   "cell_type": "code",
   "execution_count": 3,
   "metadata": {},
   "outputs": [],
   "source": [
    "layout = Layout(width=\"800\", height=\"600\")\n",
    "def sankey(margin_top=10, **value):\n",
    "    \"\"\"Show SankeyWidget with default values for size and margins\"\"\"\n",
    "    return SankeyWidget(layout=layout,\n",
    "                        margins=dict(top=margin_top, bottom=0, left=30, right=60),\n",
    "                        **value)"
   ]
  },
  {
   "cell_type": "code",
   "execution_count": 4,
   "metadata": {},
   "outputs": [
    {
     "data": {
      "application/vnd.jupyter.widget-view+json": {
       "model_id": "678319df9b9c4a1381f8e372aed78f50",
       "version_major": 2,
       "version_minor": 0
      },
      "text/plain": [
       "SankeyWidget(align_link_types=True, layout=Layout(height='600', width='800'), links=[{'source': 'U.S.', 'targe…"
      ]
     },
     "metadata": {},
     "output_type": "display_data"
    }
   ],
   "source": [
    "totalExports = [\n",
    "    {'source': 'U.S.', 'target': 'EU', 'value':100, 'color': 'firebrick'},\n",
    "    {'source': 'U.S.', 'target': 'Canada', 'value':90, 'color': 'coral'},\n",
    "    {'source': 'U.S.', 'target': 'China', 'value':80, 'color': 'gold'},\n",
    "    {'source': 'U.S.', 'target': 'Japan', 'value':70, 'color': 'limegreen'},\n",
    "    {'source': 'U.S.', 'target': 'India', 'value':60, 'color': 'lightseagreen'},\n",
    "    {'source': 'U.S.', 'target': 'Mexico', 'value':50, 'color': 'royalblue'},\n",
    "    {'source': 'U.S.', 'target': 'South Korea', 'value':40, 'color': 'darkorchid'},\n",
    "    {'source': 'U.S.', 'target': 'Taiwan', 'value':30, 'color': 'deeppink'},\n",
    "    {'source': 'U.S.', 'target': 'All others', 'value':200, 'color': 'wheat'},\n",
    "]\n",
    "sankey(links=totalExports,align_link_types=True)"
   ]
  },
  {
   "cell_type": "code",
   "execution_count": 5,
   "metadata": {},
   "outputs": [
    {
     "data": {
      "application/vnd.jupyter.widget-view+json": {
       "model_id": "47b319f6622f498ca3b263dda3772332",
       "version_major": 2,
       "version_minor": 0
      },
      "text/plain": [
       "SankeyWidget(align_link_types=True, layout=Layout(height='600', width='800'), links=[{'source': 'A', 'target':…"
      ]
     },
     "metadata": {},
     "output_type": "display_data"
    }
   ],
   "source": [
    "links = [\n",
    "    {'source': 'A', 'target': 'B', 'value': 1},\n",
    "    {'source': 'B', 'target': 'C', 'value': 1},\n",
    "    {'source': 'A', 'target': 'D', 'value': 1},\n",
    "]\n",
    "sankey(links=links,align_link_types=True)"
   ]
  },
  {
   "cell_type": "code",
   "execution_count": 7,
   "metadata": {},
   "outputs": [
    {
     "data": {
      "application/vnd.jupyter.widget-view+json": {
       "model_id": "d0dea43a244141e28775b35fda707933",
       "version_major": 2,
       "version_minor": 0
      },
      "text/plain": [
       "VBox(children=(Button(description='Total Exports', style=ButtonStyle()), SankeyWidget(align_link_types=True, l…"
      ]
     },
     "metadata": {},
     "output_type": "display_data"
    }
   ],
   "source": [
    "links = [\n",
    "    {'source': 'A', 'target': 'B', 'value': 1},\n",
    "    {'source': 'B', 'target': 'C', 'value': 1},\n",
    "    {'source': 'A', 'target': 'D', 'value': 1},\n",
    "]\n",
    "s = sankey(links=links,align_link_types=True)\n",
    "\n",
    "def switch(x):\n",
    "    global links\n",
    "    global align_link_types\n",
    "    totalExports = [\n",
    "        {'source': 'E', 'target': 'F', 'value': 1},\n",
    "        {'source': 'F', 'target': 'H', 'value': 1},\n",
    "        {'source': 'G', 'target': 'H', 'value': 1},\n",
    "    ]\n",
    "    s.links = totalExports\n",
    "    s.align_link_types = True\n",
    "\n",
    "b = Button(description='Total Exports')\n",
    "b.on_click(switch)\n",
    "\n",
    "VBox([b, s])"
   ]
  },
  {
   "cell_type": "code",
   "execution_count": 13,
   "metadata": {},
   "outputs": [
    {
     "data": {
      "text/plain": [
       "[{'source': 'E', 'target': 'F', 'value': 1},\n",
       " {'source': 'F', 'target': 'H', 'value': 1},\n",
       " {'source': 'G', 'target': 'H', 'value': 1}]"
      ]
     },
     "execution_count": 13,
     "metadata": {},
     "output_type": "execute_result"
    }
   ],
   "source": [
    "s.links"
   ]
  },
  {
   "cell_type": "code",
   "execution_count": 9,
   "metadata": {},
   "outputs": [
    {
     "data": {
      "text/plain": [
       "True"
      ]
     },
     "execution_count": 9,
     "metadata": {},
     "output_type": "execute_result"
    }
   ],
   "source": [
    "s.align_link_types"
   ]
  },
  {
   "cell_type": "code",
   "execution_count": 10,
   "metadata": {},
   "outputs": [
    {
     "data": {
      "text/plain": [
       "ipysankeywidget.sankey_widget.SankeyWidget"
      ]
     },
     "execution_count": 10,
     "metadata": {},
     "output_type": "execute_result"
    }
   ],
   "source": [
    "type(s)"
   ]
  },
  {
   "cell_type": "code",
   "execution_count": 11,
   "metadata": {},
   "outputs": [
    {
     "data": {
      "text/plain": [
       "list"
      ]
     },
     "execution_count": 11,
     "metadata": {},
     "output_type": "execute_result"
    }
   ],
   "source": [
    "type(s.links)"
   ]
  },
  {
   "cell_type": "code",
   "execution_count": 12,
   "metadata": {},
   "outputs": [
    {
     "data": {
      "text/plain": [
       "{'source': 'B', 'target': 'C', 'value': 1}"
      ]
     },
     "execution_count": 12,
     "metadata": {},
     "output_type": "execute_result"
    }
   ],
   "source": [
    "s.links[1]"
   ]
  },
  {
   "cell_type": "code",
   "execution_count": null,
   "metadata": {},
   "outputs": [],
   "source": []
  },
  {
   "cell_type": "code",
   "execution_count": null,
   "metadata": {},
   "outputs": [],
   "source": []
  }
 ],
 "metadata": {
  "kernelspec": {
   "display_name": "Python 3",
   "language": "python",
   "name": "python3"
  },
  "language_info": {
   "codemirror_mode": {
    "name": "ipython",
    "version": 3
   },
   "file_extension": ".py",
   "mimetype": "text/x-python",
   "name": "python",
   "nbconvert_exporter": "python",
   "pygments_lexer": "ipython3",
   "version": "3.7.6"
  }
 },
 "nbformat": 4,
 "nbformat_minor": 4
}
